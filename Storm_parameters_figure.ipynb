{
 "cells": [
  {
   "cell_type": "code",
   "execution_count": 1,
   "metadata": {
    "collapsed": false
   },
   "outputs": [],
   "source": [
    "library(\"ggplot2\")\n",
    "library(\"reshape2\")\n",
    "# change size of inline plots\n",
    "options(repr.plot.width=8, repr.plot.height=3)"
   ]
  },
  {
   "cell_type": "code",
   "execution_count": 2,
   "metadata": {
    "collapsed": false
   },
   "outputs": [],
   "source": [
    "df = read.csv('inputs/storm_modelling.csv')"
   ]
  },
  {
   "cell_type": "code",
   "execution_count": 3,
   "metadata": {
    "collapsed": false
   },
   "outputs": [],
   "source": [
    "df$`Total Rainfall` = df$Intensity * df$Duration\n",
    "# filter out the 1600s data\n",
    "df = df[df$start > 1600,]\n",
    "# melt so we can use facet_grid\n",
    "df = melt(df, id.vars=c('model', 'rain_event_type', 'start', 'end', 'Duration'))"
   ]
  },
  {
   "cell_type": "code",
   "execution_count": 36,
   "metadata": {
    "collapsed": false
   },
   "outputs": [],
   "source": [
    "g = ggplot(df) +\n",
    "    labs(x='Year', y=NULL) +\n",
    "    # tilde is just overloaded to do something completely different here\n",
    "    facet_grid(variable ~ rain_event_type, scales=\"free\", switch=\"y\") + \n",
    "    geom_segment(aes(x=start, y=value, xend=end, yend=value, color=model)) +\n",
    "    #geom_text(aes(label=round(df$value, 2), x=start, y=value)) +\n",
    "    theme_minimal() +\n",
    "    theme(legend.position=\"bottom\") + \n",
    "    scale_colour_manual(values=c(\"black\", \"red\")) +\n",
    "    scale_x_continuous(breaks=seq(1970, 2110, 40))"
   ]
  },
  {
   "cell_type": "code",
   "execution_count": 38,
   "metadata": {
    "collapsed": false
   },
   "outputs": [],
   "source": [
    "ggsave(\"test.png\", g, width=6.5, height=4, dpi=300, units=\"in\")"
   ]
  }
 ],
 "metadata": {
  "kernelspec": {
   "display_name": "R",
   "language": "R",
   "name": "ir"
  },
  "language_info": {
   "codemirror_mode": "r",
   "file_extension": ".r",
   "mimetype": "text/x-r-source",
   "name": "R",
   "pygments_lexer": "r",
   "version": "3.2.3"
  }
 },
 "nbformat": 4,
 "nbformat_minor": 2
}
